{
 "cells": [
  {
   "cell_type": "code",
   "execution_count": 1,
   "metadata": {},
   "outputs": [],
   "source": [
    "### Author: Leonie Küchenhoff\n",
    "### Date: October 2022\n",
    "### Purpose of script: Script to check list of variats in more detail.\n",
    "###             The following things will be checked:\n",
    "###\n",
    "###             1. Is it an A>G mutation?\n",
    "###             2. Are there any gRNA Sequence similarities in proximity?\n"
   ]
  },
  {
   "cell_type": "code",
   "execution_count": 1,
   "metadata": {},
   "outputs": [],
   "source": [
    "import numpy as np\n",
    "import pandas as pd\n",
    "import os\n",
    "from Bio import SeqIO\n",
    "from Bio.Seq import Seq\n",
    "import matplotlib.pyplot as plt\n",
    "import seaborn as sns\n",
    "from matplotlib.patches import Patch\n",
    "from matplotlib.ticker import MaxNLocator\n",
    "from config import outdir, tissue_specdir, reference_seq"
   ]
  },
  {
   "cell_type": "code",
   "execution_count": 2,
   "metadata": {},
   "outputs": [
    {
     "name": "stdout",
     "output_type": "stream",
     "text": [
      "This base directory will be used:\n",
      " /g/steinmetz/project/leonie_crispr/03_data/01_heartproject/snakemake_vcf/tissue_spec_vars\n"
     ]
    },
    {
     "ename": "FileNotFoundError",
     "evalue": "[Errno 2] No such file or directory: '/g/steinmetz/project/leonie_crispr/03_data/01_heartproject/snakemake_vcf/tissue_spec_vars'",
     "output_type": "error",
     "traceback": [
      "\u001b[0;31m---------------------------------------------------------------------------\u001b[0m",
      "\u001b[0;31mFileNotFoundError\u001b[0m                         Traceback (most recent call last)",
      "Input \u001b[0;32mIn [2]\u001b[0m, in \u001b[0;36m<cell line: 7>\u001b[0;34m()\u001b[0m\n\u001b[1;32m      5\u001b[0m outdir \u001b[38;5;241m=\u001b[39m \u001b[38;5;28mstr\u001b[39m(outdir \u001b[38;5;241m+\u001b[39m \u001b[38;5;124m'\u001b[39m\u001b[38;5;124m/variant_surrounding/\u001b[39m\u001b[38;5;124m'\u001b[39m)\n\u001b[1;32m      6\u001b[0m \u001b[38;5;28mprint\u001b[39m(\u001b[38;5;124m'\u001b[39m\u001b[38;5;124mThis base directory will be used:\u001b[39m\u001b[38;5;130;01m\\n\u001b[39;00m\u001b[38;5;124m'\u001b[39m, basedir)    \n\u001b[0;32m----> 7\u001b[0m \u001b[43mos\u001b[49m\u001b[38;5;241;43m.\u001b[39;49m\u001b[43mchdir\u001b[49m\u001b[43m(\u001b[49m\u001b[43mbasedir\u001b[49m\u001b[43m)\u001b[49m\n\u001b[1;32m      9\u001b[0m \u001b[38;5;66;03m#path to refernce sequence\u001b[39;00m\n\u001b[1;32m     10\u001b[0m ref_seq \u001b[38;5;241m=\u001b[39m \u001b[38;5;124m'\u001b[39m\u001b[38;5;124m../reference_genome/mm10_AAV.fa\u001b[39m\u001b[38;5;124m'\u001b[39m\n",
      "\u001b[0;31mFileNotFoundError\u001b[0m: [Errno 2] No such file or directory: '/g/steinmetz/project/leonie_crispr/03_data/01_heartproject/snakemake_vcf/tissue_spec_vars'"
     ]
    }
   ],
   "source": [
    "# filter variable will be used as info to save plots\n",
    "filter = '1ed'\n",
    "helper_scripts = str(os.getcwd())\n",
    "#base directory\n",
    "basedir = tissue_specdir\n",
    "outdir = str(outdir + '/variant_surrounding/')\n",
    "print('This base directory will be used:\\n', basedir)    \n",
    "os.chdir(basedir)\n",
    "\n",
    "#path to refernce sequence\n",
    "ref_seq = reference_seq\n",
    "\n",
    "#gRNA + PAM sequence \n",
    "grna = 'GAACGTAGCCGCTCTGGACCANRN'\n",
    "\n",
    "#sample names\n",
    "names = ['279', '282', '450']"
   ]
  },
  {
   "cell_type": "code",
   "execution_count": 3,
   "metadata": {},
   "outputs": [],
   "source": [
    "# read in reference sequence\n",
    "def read_reference_data(path_ref):\n",
    "    reference = SeqIO.to_dict(SeqIO.parse(ref_seq, 'fasta'))\n",
    "    return reference"
   ]
  },
  {
   "cell_type": "code",
   "execution_count": 8,
   "metadata": {},
   "outputs": [],
   "source": [
    "reference  = read_reference_data(ref_seq)"
   ]
  },
  {
   "cell_type": "code",
   "execution_count": 11,
   "metadata": {},
   "outputs": [],
   "source": [
    "# Read in list of tissue specific variants to find location of variants\n",
    "heart_spec_dict = {}\n",
    "for i in names:\n",
    "    heart_spec_dict[i] = pd.read_csv(f'/sample_{i}_{filter}.txt', delimiter='\\t')\n",
    "\n",
    "tail_spec_dict = {}\n",
    "for i in names:\n",
    "    tail_spec_dict[i] = pd.read_csv(f'/tail_sample_{i}_{filter}.txt', delimiter='\\t')\n",
    "\n",
    "liver_spec_dict = {}\n",
    "for i in names:\n",
    "    liver_spec_dict[i] = pd.read_csv(f'/liver_sample_{i}_{filter}.txt', delimiter='\\t')"
   ]
  },
  {
   "cell_type": "code",
   "execution_count": 25,
   "metadata": {},
   "outputs": [],
   "source": [
    "chromosomes = ['chr1',\n",
    "                'chr2',\n",
    "                'chr3',\n",
    "                'chr4',\n",
    "                'chr5',\n",
    "                'chr6',\n",
    "                'chr7',\n",
    "                'chr8',\n",
    "                'chr9',\n",
    "                'chr10',\n",
    "                'chr11',\n",
    "                'chr12',\n",
    "                'chr13',\n",
    "                'chr14',\n",
    "                'chr15',\n",
    "                'chr16',\n",
    "                'chr17',\n",
    "                'chr18',\n",
    "                'chr19',\n",
    "                'chrX',\n",
    "                'chrY']"
   ]
  },
  {
   "cell_type": "code",
   "execution_count": 32,
   "metadata": {},
   "outputs": [],
   "source": [
    "def save_refseq(position_dict, tissue, names):\n",
    "    '''\n",
    "    function to interate through positions of varaints and save reference sequence +/- 30 bases in table\n",
    "    '''\n",
    "    seq_dict = {}\n",
    "    for name in names:\n",
    "        seq_list = []\n",
    "        for chr in chromosomes:\n",
    "            seq = reference[chr].upper()\n",
    "            positions = position_dict[name][position_dict[name]['chr'] == chr]['pos'].to_list()\n",
    "            for i in positions:\n",
    "                seq_pos = seq[i-30: i + 30]\n",
    "                seq_list.append(str(seq_pos.seq))\n",
    "        seq_dict[name] = seq_list\n",
    "        pd.DataFrame({'gRNA':grna, 'genome_dna':seq_dict[name]}).to_csv(f'heart_specific_variants/density_filter/{tissue}_genomic_surrounding_sample_{name}_{filter}.txt', sep = '\\t', index = False)\n"
   ]
  },
  {
   "cell_type": "code",
   "execution_count": 33,
   "metadata": {},
   "outputs": [],
   "source": [
    "save_refseq(heart_spec_dict, 'heart', names)\n",
    "save_refseq(liver_spec_dict, 'liver', names)\n",
    "save_refseq(tail_spec_dict, 'tail', names)"
   ]
  },
  {
   "cell_type": "code",
   "execution_count": 36,
   "metadata": {},
   "outputs": [
    {
     "name": "stderr",
     "output_type": "stream",
     "text": [
      "Can't locate Bio/SeqIO.pm in @INC (you may need to install the Bio::SeqIO module) (@INC contains: /home/kuechenh/anaconda3/lib/perl5/5.32/site_perl /home/kuechenh/anaconda3/lib/perl5/site_perl /home/kuechenh/anaconda3/lib/perl5/5.32/vendor_perl /home/kuechenh/anaconda3/lib/perl5/vendor_perl /home/kuechenh/anaconda3/lib/perl5/5.32/core_perl /home/kuechenh/anaconda3/lib/perl5/core_perl .) at /g/steinmetz/project/leonie_crispr/02_repo/00_externalcode/01_fromShengdi/semi_global_alignment/semi_global_alignment.pl line 6.\n",
      "BEGIN failed--compilation aborted at /g/steinmetz/project/leonie_crispr/02_repo/00_externalcode/01_fromShengdi/semi_global_alignment/semi_global_alignment.pl line 6.\n"
     ]
    },
    {
     "data": {
      "text/plain": [
       "512"
      ]
     },
     "execution_count": 36,
     "metadata": {},
     "output_type": "execute_result"
    }
   ],
   "source": [
    "# costum perl script to align PAM sequence & gRNA to region around variant and output number of mismatches to best match in region\n",
    "os.system(f'''\n",
    "perl {helper_scripts}/semi_global_alignment.pl -in heart_genomic_surrounding_sample_279_1ed.txt -o heart_genomic_surrounding_sample_279_analysis_1ed.txt &&\n",
    "perl {helper_scripts}/semi_global_alignment.pl -in heart_genomic_surrounding_sample_282_1ed.txt -o heart_genomic_surrounding_sample_282_analysis_1ed.txt &&\n",
    "perl {helper_scripts}/semi_global_alignment.pl -in heart_genomic_surrounding_sample_450_1ed.txt -o heart_genomic_surrounding_sample_450_analysis_1ed.txt &&\n",
    "perl {helper_scripts}/semi_global_alignment.pl -in tail_genomic_surrounding_sample_279_1ed.txt -o tail_genomic_surrounding_sample_279_analysis_1ed.txt &&\n",
    "perl {helper_scripts}/semi_global_alignment.pl -in tail_genomic_surrounding_sample_282_1ed.txt -o tail_genomic_surrounding_sample_282_analysis_1ed.txt &&\n",
    "perl {helper_scripts}/semi_global_alignment.pl -in tail_genomic_surrounding_sample_450_1ed.txt -o tail_genomic_surrounding_sample_450_analysis_1ed.txt &&\n",
    "perl {helper_scripts}/semi_global_alignment.pl -in liver_genomic_surrounding_sample_279_1ed.txt -o liver_genomic_surrounding_sample_279_analysis_1ed.txt &&\n",
    "perl {helper_scripts}/semi_global_alignment.pl -in liver_genomic_surrounding_sample_282_1ed.txt -o liver_genomic_surrounding_sample_282_analysis_1ed.txt &&\n",
    "perl {helper_scripts}/semi_global_alignment.pl -in liver_genomic_surrounding_sample_450_1ed.txt -o liver_genomic_surrounding_sample_450_analysis_1ed.txt''')\n"
   ]
  },
  {
   "cell_type": "code",
   "execution_count": 10,
   "metadata": {},
   "outputs": [],
   "source": [
    "# read in results from perl script\n",
    "\n",
    "analysed_heart = pd.DataFrame()\n",
    "for i in names:\n",
    "    analysed_sample = pd.read_csv(f'heart_genomic_surrounding_sample_{i}_analysis_{filter}.txt',\n",
    "                                        delimiter = '\\t')\n",
    "    analysed_sample['sample'] = i\n",
    "    analysed_sample['tissue'] ='heart'\n",
    "    analysed_heart = pd.concat([analysed_heart, analysed_sample])\n",
    "\n",
    "analysed_liver = pd.DataFrame()\n",
    "for i in names:\n",
    "    analysed_sample = pd.read_csv(f'liver_genomic_surrounding_sample_{i}_analysis_{filter}.txt',\n",
    "                                        delimiter = '\\t')\n",
    "    analysed_sample['sample'] = i\n",
    "    analysed_sample['tissue'] ='liver'\n",
    "    analysed_liver = pd.concat([analysed_liver, analysed_sample])\n",
    "\n",
    "analysed_tail = pd.DataFrame()\n",
    "for i in names:\n",
    "    analysed_sample = pd.read_csv(f'tail_genomic_surrounding_sample_{i}_analysis_{filter}.txt',\n",
    "                                        delimiter = '\\t')\n",
    "    analysed_sample['sample'] = i\n",
    "    analysed_sample['tissue'] ='tail'\n",
    "    analysed_tail = pd.concat([analysed_tail, analysed_sample])"
   ]
  },
  {
   "cell_type": "code",
   "execution_count": 11,
   "metadata": {},
   "outputs": [],
   "source": [
    "# concatenate tables for easy plotting\n",
    "mismatch_plot = pd.concat(\n",
    "    [analysed_heart[['mismtaches', 'sample', 'tissue']],\n",
    "    analysed_liver[['mismtaches', 'sample', 'tissue']],\n",
    "    analysed_tail[['mismtaches', 'sample', 'tissue']]], \n",
    "    ignore_index = True\n",
    "    )"
   ]
  },
  {
   "cell_type": "code",
   "execution_count": 13,
   "metadata": {},
   "outputs": [],
   "source": [
    "# color & plot settings\n",
    "colors = [sns.color_palette('colorblind')[3],\n",
    "          sns.color_palette('colorblind')[2],\n",
    "          sns.color_palette('colorblind')[1],\n",
    "          sns.color_palette('colorblind')[0],\n",
    "          'white',\n",
    "          sns.color_palette('colorblind')[4],\n",
    "          sns.color_palette('colorblind')[5],\n",
    "          sns.color_palette('colorblind')[6],\n",
    "          sns.color_palette('colorblind')[7],\n",
    "          sns.color_palette('colorblind')[8]\n",
    "          ]\n",
    "costum_palette = sns.color_palette(colors)\n",
    "plt.rcParams.update({'font.size':18, 'text.usetex': False,\n",
    "\"svg.fonttype\": 'none'})"
   ]
  },
  {
   "cell_type": "code",
   "execution_count": 15,
   "metadata": {},
   "outputs": [
    {
     "data": {
      "image/png": "[encoded data removed]",
      "text/plain": [
       "<Figure size 1296x360 with 3 Axes>"
      ]
     },
     "metadata": {
      "needs_background": "light"
     },
     "output_type": "display_data"
    }
   ],
   "source": [
    "# plot samples separately\n",
    "\n",
    "fig, ax = plt.subplots(1,3, figsize = (18,5), sharey = True, sharex = True)\n",
    "plt.style.use('seaborn-colorblind')\n",
    "plt.style.use('seaborn-whitegrid')\n",
    "legend_elements = [Patch(facecolor=sns.color_palette('colorblind')[1],label='sample 279',edgecolor = 'black', linewidth = 2),\n",
    "                    Patch(facecolor=sns.color_palette('colorblind')[2],label='sample 282', edgecolor = 'black', linewidth = 2),\n",
    "                    Patch(facecolor=sns.color_palette('colorblind')[0],label='sample 450', edgecolor = 'black', linewidth = 2)]\n",
    "\n",
    "sns.histplot(data = mismatch_plot[mismatch_plot['sample'] == '279'], x = 'mismtaches',hue= 'tissue', \n",
    "                stat = 'probability', ax = ax[0], binwidth = 1, binrange = (0.5,20.5),multiple = 'dodge', common_norm =False, \n",
    "                palette = [costum_palette[i] for i in [0,1,3]],edgecolor = 'black', linewidth = 1.5, shrink = 0.8, alpha=1)\n",
    "sns.histplot(data = mismatch_plot[mismatch_plot['sample'] == '282'], x = 'mismtaches',hue= 'tissue', \n",
    "                stat = 'probability', ax = ax[1], binwidth = 1, binrange = (0.5,20.5), multiple = 'dodge', common_norm =False, \n",
    "                palette = [costum_palette[i] for i in [0,1,3]],edgecolor = 'black', linewidth = 1.5, shrink = 0.8, alpha=1)\n",
    "sns.histplot(data = mismatch_plot[mismatch_plot['sample'] == '450'], x = 'mismtaches',hue= 'tissue', \n",
    "                stat = 'probability', ax = ax[2], binwidth = 1, binrange = (0.5,20.5), multiple = 'dodge', common_norm =False, \n",
    "                palette = [costum_palette[i] for i in [0,1,3]],edgecolor = 'black', linewidth = 1.5, shrink = 0.8, alpha=1)\n",
    "ax[0].set_xlabel('mismatches')\n",
    "ax[0].set_xlim(0,17)\n",
    "ax[0].set_ylim(0.001,0.5)\n",
    "ax[0].set_ylabel('relative amount')\n",
    "ax[2].get_legend().remove()\n",
    "ax[1].get_legend().remove()\n",
    "\n",
    "ax[0].xaxis.set_major_locator(MaxNLocator(integer=False, ))\n",
    "\n",
    "ax[0].set_title('sample 279')\n",
    "ax[1].set_title('sample 282')\n",
    "ax[2].set_title('sample 450')\n",
    "fig.tight_layout()\n",
    "plt.show()\n",
    "#fig.savefig(f'{outdir}/tissue_spec_mismatches_{filter}.pdf', bbox_inches = 'tight')\n",
    "#fig.savefig(f'{outdir}/tissue_spec_mismatches_{filter}.svg', bbox_inches = 'tight')"
   ]
  },
  {
   "cell_type": "code",
   "execution_count": 17,
   "metadata": {},
   "outputs": [],
   "source": [
    "plt.rcParams.update({'font.size':20, 'text.usetex': False,\n",
    "\"svg.fonttype\": 'none'})"
   ]
  },
  {
   "cell_type": "code",
   "execution_count": 18,
   "metadata": {},
   "outputs": [
    {
     "data": {
      "image/png": "[encoded data removed]",
      "text/plain": [
       "<Figure size 432x360 with 1 Axes>"
      ]
     },
     "metadata": {},
     "output_type": "display_data"
    }
   ],
   "source": [
    "# plot samples together\n",
    "fig, ax = plt.subplots(1, figsize = (6,5), sharey = True, sharex = True)\n",
    "plt.style.use('seaborn-colorblind')\n",
    "plt.style.use('seaborn-whitegrid')\n",
    "sns.histplot(data = mismatch_plot, x = 'mismtaches',hue= 'tissue', \n",
    "                stat = 'probability', ax = ax, binwidth = 1, binrange = (0.5,20.5),multiple = 'dodge', common_norm =False, \n",
    "                palette = [costum_palette[i] for i in [0,1,3]],edgecolor = 'black', linewidth = 1.3, shrink = 0.8, alpha=1)\n",
    "                \n",
    "ax.set_xlabel('mismatches')\n",
    "ax.set_xlim(0,17)\n",
    "ax.set_ylim(0,0.5)\n",
    "ax.set_ylabel('relative contribution')\n",
    "\n",
    "ax.xaxis.set_major_locator(MaxNLocator(integer=False, ))\n",
    "fig.tight_layout()\n",
    "plt.show()\n",
    "\n",
    "# svae table and plots\n",
    "\n",
    "#fig.savefig(f'{outdir}/tissue_spec_mismatches_{filter}_summed.pdf', bbox_inches = 'tight')\n",
    "#mismatch_plot.rename(columns = {'mismtaches' : 'mismatches'}).to_csv(f'{outdir}/mismatches_tissue_spec_variants.csv', index = False)"
   ]
  }
 ],
 "metadata": {
  "interpreter": {
   "hash": "e6f34ad77cfe09e92b789e4b2c65cd4206cf10540b9993c0effd6d86fa137da0"
  },
  "kernelspec": {
   "display_name": "Python 3.9.12 ('base')",
   "language": "python",
   "name": "python3"
  },
  "language_info": {
   "codemirror_mode": {
    "name": "ipython",
    "version": 3
   },
   "file_extension": ".py",
   "mimetype": "text/x-python",
   "name": "python",
   "nbconvert_exporter": "python",
   "pygments_lexer": "ipython3",
   "version": "3.9.12"
  },
  "orig_nbformat": 4
 },
 "nbformat": 4,
 "nbformat_minor": 2
}
