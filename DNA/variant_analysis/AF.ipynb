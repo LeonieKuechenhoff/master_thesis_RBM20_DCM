{
 "cells": [
  {
   "cell_type": "code",
   "execution_count": 2,
   "metadata": {},
   "outputs": [],
   "source": [
    "### Author: Leonie Küchenhoff\n",
    "### Date: October 2022\n",
    "### Purpose of script: \n",
    "### 1. Plot total number of tissue specific and common variants\n",
    "### 2. Plot allele frequency of A to G mutations\n",
    "### 3. Plot allele frequency of on-target edits"
   ]
  },
  {
   "cell_type": "code",
   "execution_count": 1,
   "metadata": {},
   "outputs": [],
   "source": [
    "import numpy as np\n",
    "import pandas as pd\n",
    "from matplotlib import pyplot as plt\n",
    "import seaborn as sns\n",
    "import os\n",
    "from config import basedir, outdir"
   ]
  },
  {
   "cell_type": "code",
   "execution_count": 4,
   "metadata": {},
   "outputs": [
    {
     "name": "stdout",
     "output_type": "stream",
     "text": [
      "This base directory will be used:\n",
      " /g/steinmetz/project/leonie_crispr/03_data/01_heartproject/snakemake_vcf/\n"
     ]
    }
   ],
   "source": [
    "os.chdir(basedir)\n",
    "outdir = str(outdir + '/AF/')\n",
    "print('This base directory will be used:\\n', basedir)\n",
    "os.chdir(basedir)"
   ]
  },
  {
   "cell_type": "code",
   "execution_count": 5,
   "metadata": {},
   "outputs": [],
   "source": [
    "# define filtering method (will only be used in saving of plots)\n",
    "filter = '1ed'\n",
    "#define sample names\n",
    "names = ['279', '282', '450']\n",
    "# Path to tissue specific variants\n",
    "paths_spec = [f'merged/txt_files/ad_hc_mu/HLT{i}.specific.txt' for i in names]\n",
    "# Path to all filtered variants\n",
    "paths = [f'merged/txt_files/ad_hc_mu/HLT{i}.overlap_three_readabove4_above2_1ed.txt' for i in names]\n",
    "\n",
    "col1 = 'ad_h'\n",
    "col2 = 'ad_l'\n",
    "col3 = 'ad_t'"
   ]
  },
  {
   "cell_type": "code",
   "execution_count": 6,
   "metadata": {},
   "outputs": [],
   "source": [
    "# read in filtered data and exclude X / Y chromosome\n",
    "file_dict = {}\n",
    "for i in zip(paths_spec, names):\n",
    "    df = pd.read_csv(i[0], delimiter = '\\t')\n",
    "    file_dict[i[1]] = df[(df['chr'] != 'chrY') & (df['chr'] != 'chrX')]"
   ]
  },
  {
   "cell_type": "code",
   "execution_count": 7,
   "metadata": {},
   "outputs": [],
   "source": [
    "def get_sets(df):\n",
    "    '''\n",
    "    function that returns the df with de novo variants and list of indices with de novo variants in heart, liver & tail\n",
    "    '''\n",
    "    unknown = df[(df['known_dbsnp']== False) & (df['known_mgp'] == False)]\n",
    "    setlist = np.arange(0, len(unknown))\n",
    "    heart = setlist[unknown['heart']]\n",
    "    liver = setlist[unknown['liver']]\n",
    "    tail = setlist[unknown['tail']]\n",
    "    return heart, liver, tail, unknown"
   ]
  },
  {
   "cell_type": "code",
   "execution_count": 8,
   "metadata": {},
   "outputs": [],
   "source": [
    "venn_dict = {}\n",
    "for i in names:\n",
    "    venn_dict[i] = get_sets(file_dict[i])"
   ]
  },
  {
   "cell_type": "code",
   "execution_count": 9,
   "metadata": {},
   "outputs": [],
   "source": [
    "# get df with only heart variants (no matter of heart specific or not)\n",
    "heart_merge = pd.merge(venn_dict['279'][3][venn_dict['279'][3]['heart'] == True], venn_dict['282'][3][venn_dict['282'][3]['heart'] == True], how = 'outer', on = ['chr', 'pos', 'ref', 'alt'],  suffixes = ['279', '282'])\n",
    "heart_merge = pd.merge(heart_merge, venn_dict['450'][3][venn_dict['450'][3]['heart'] == True], how = 'outer', on = ['chr', 'pos', 'ref', 'alt'])\n",
    "setlist = np.arange(len(heart_merge))\n",
    "heart279 = setlist[heart_merge['heart279'].fillna(False)]\n",
    "heart282 = setlist[heart_merge['heart282'].fillna(False)]\n",
    "heart450 = setlist[heart_merge['heart'].fillna(False)]"
   ]
  },
  {
   "cell_type": "markdown",
   "metadata": {},
   "source": [
    "### Heart specific variants"
   ]
  },
  {
   "cell_type": "code",
   "execution_count": 36,
   "metadata": {},
   "outputs": [],
   "source": [
    "# tissue specific variants that were only measured in heart\n",
    "heart_spec_279 = venn_dict['279'][3][(venn_dict['279'][3]['heart'] == True)] \n",
    "heart_spec_282 = venn_dict['282'][3][(venn_dict['282'][3]['heart'] == True)] \n",
    "heart_spec_450 = venn_dict['450'][3][(venn_dict['450'][3]['heart'] == True)] "
   ]
  },
  {
   "cell_type": "code",
   "execution_count": 38,
   "metadata": {},
   "outputs": [],
   "source": [
    "# merge to one file and fill NA\n",
    "heart_spec_merge = pd.merge(heart_spec_279,heart_spec_282, how = 'outer', on = ['chr', 'pos', 'ref', 'alt'],  suffixes = ['279', '282'])\n",
    "heart_spec_merge_3 = pd.merge(heart_spec_merge, heart_spec_450, how = 'outer', on = ['chr', 'pos', 'ref', 'alt'])\n",
    "setlist_spec_3 = np.arange(len(heart_spec_merge_3))\n",
    "heart279_spec_3 = setlist_spec_3[heart_spec_merge_3['heart279'].fillna(False)]\n",
    "heart282_spec_3 = setlist_spec_3[heart_spec_merge_3['heart282'].fillna(False)]\n",
    "heart450_spec_3 = setlist_spec_3[heart_spec_merge_3['heart'].fillna(False)]"
   ]
  },
  {
   "cell_type": "markdown",
   "metadata": {},
   "source": [
    "### Liver specific variants"
   ]
  },
  {
   "cell_type": "code",
   "execution_count": 39,
   "metadata": {},
   "outputs": [],
   "source": [
    "# tissue specific variants that were not measured in other two tissues\n",
    "liver_spec_279 = venn_dict['279'][3][(venn_dict['279'][3]['liver'] == True)] \n",
    "liver_spec_282 = venn_dict['282'][3][(venn_dict['282'][3]['liver'] == True)] \n",
    "liver_spec_450 = venn_dict['450'][3][(venn_dict['450'][3]['liver'] == True)]"
   ]
  },
  {
   "cell_type": "code",
   "execution_count": 40,
   "metadata": {},
   "outputs": [],
   "source": [
    "# merge to one file and fill NA\n",
    "liver_spec_merge = pd.merge(liver_spec_279,liver_spec_282, how = 'outer', on = ['chr', 'pos', 'ref', 'alt'],  suffixes = ['279', '282'])\n",
    "liver_spec_merge_3 = pd.merge(liver_spec_merge, liver_spec_450, how = 'outer', on = ['chr', 'pos', 'ref', 'alt'])\n",
    "setlist_spec_3 = np.arange(len(liver_spec_merge_3))\n",
    "liver279_spec_3 = setlist_spec_3[liver_spec_merge_3['liver279'].fillna(False)]\n",
    "liver282_spec_3 = setlist_spec_3[liver_spec_merge_3['liver282'].fillna(False)]\n",
    "liver450_spec_3 = setlist_spec_3[liver_spec_merge_3['liver'].fillna(False)]"
   ]
  },
  {
   "cell_type": "markdown",
   "metadata": {},
   "source": [
    "### Tail specific variants"
   ]
  },
  {
   "cell_type": "code",
   "execution_count": 41,
   "metadata": {},
   "outputs": [],
   "source": [
    "# tissue specific variants that were not measured in other two tissues\n",
    "tail_spec_279 = venn_dict['279'][3][(venn_dict['279'][3]['heart'] == False) & (venn_dict['279'][3]['tail'] == True) & (venn_dict['279'][3]['liver'] == False)] \n",
    "tail_spec_282 = venn_dict['282'][3][(venn_dict['282'][3]['heart'] == False) & (venn_dict['282'][3]['tail'] == True) & (venn_dict['282'][3]['liver'] == False)] \n",
    "tail_spec_450 = venn_dict['450'][3][(venn_dict['450'][3]['heart'] == False) & (venn_dict['450'][3]['tail'] == True) & (venn_dict['450'][3]['liver'] == False)] "
   ]
  },
  {
   "cell_type": "code",
   "execution_count": 26,
   "metadata": {},
   "outputs": [],
   "source": [
    "# merge to one file and fill NA\n",
    "tail_spec_merge_3 = pd.merge(tail_spec_279,tail_spec_282, how = 'outer', on = ['chr', 'pos', 'ref', 'alt'],  suffixes = ['279', '282'])\n",
    "tail_spec_merge_3 = pd.merge(tail_spec_merge_3, tail_spec_450, how = 'outer', on = ['chr', 'pos', 'ref', 'alt'])\n",
    "setlist_spec_3 = np.arange(len(tail_spec_merge_3))\n",
    "tail279_spec_3 = setlist_spec_3[tail_spec_merge_3['tail279'].fillna(False)]\n",
    "tail282_spec_3 = setlist_spec_3[tail_spec_merge_3['tail282'].fillna(False)]\n",
    "tail450_spec_3 = setlist_spec_3[tail_spec_merge_3['tail'].fillna(False)]"
   ]
  },
  {
   "cell_type": "markdown",
   "metadata": {},
   "source": [
    "### Common overlap three tissues"
   ]
  },
  {
   "cell_type": "code",
   "execution_count": 10,
   "metadata": {},
   "outputs": [],
   "source": [
    "def get_af(df, col1 = 'AD|h_mu', col2 = 'AD|l_mu', col3 = 'AD|t_mu'):\n",
    "    mouse_ad = df[[col1, col2, col3]]\n",
    "    allel1 = mouse_ad.applymap(lambda x: int(x.split(',')[0]) if pd.notnull(x) else 2).to_numpy()\n",
    "    allel2 = mouse_ad.applymap(lambda x: int(x.split(',')[1]) if pd.notnull(x) else -1).to_numpy()\n",
    "    af = allel2 / (allel1 + allel2)\n",
    "    af = np.nan_to_num(af, 0)\n",
    "    return af"
   ]
  },
  {
   "cell_type": "code",
   "execution_count": 11,
   "metadata": {},
   "outputs": [],
   "source": [
    "# read in filtered data and exclude X / Y chromosome\n",
    "file_dict_comm = {}\n",
    "for i in zip(paths, names):\n",
    "    df = pd.read_csv(i[0], delimiter = '\\t')\n",
    "    file_dict_comm[i[1]] = df[(df['chr'] != 'chrY') & (df['chr'] != 'chrX')]\n",
    "\n",
    "venn_dict_comm = {}\n",
    "for i in names:\n",
    "    venn_dict_comm[i] = get_sets(file_dict_comm[i])"
   ]
  },
  {
   "cell_type": "code",
   "execution_count": 12,
   "metadata": {},
   "outputs": [],
   "source": [
    "# filter for variants present in all three tissues\n",
    "common_279 = venn_dict_comm['279'][3][(venn_dict_comm['279'][3]['heart'] == True) & (venn_dict_comm['279'][3]['tail'] == True) & (venn_dict_comm['279'][3]['liver'] == True)] \n",
    "common_282 = venn_dict_comm['282'][3][(venn_dict_comm['282'][3]['heart'] == True) & (venn_dict_comm['282'][3]['tail'] == True) & (venn_dict_comm['282'][3]['liver'] == True)] \n",
    "common_450 = venn_dict_comm['450'][3][(venn_dict_comm['450'][3]['heart'] == True) & (venn_dict_comm['450'][3]['tail'] == True) & (venn_dict_comm['450'][3]['liver'] == True)]\n",
    "\n",
    "# variants should have AF of > 0 in all three tissues\n",
    "af = get_af(common_279, col1, col2, col3) \n",
    "common_279_3 = common_279.iloc[np.where((af[:,0]!=0) &(af[:,1]!=0) &(af[:,2]!=0))]\n",
    "af = get_af(common_282, col1, col2, col3)\n",
    "common_282_3 = common_282.iloc[np.where((af[:,0]!=0) &(af[:,1]!=0) &(af[:,2]!=0))]\n",
    "af = get_af(common_450, col1, col2, col3)\n",
    "common_450_3 = common_450.iloc[np.where((af[:,0]!=0) &(af[:,1]!=0) &(af[:,2]!=0))]"
   ]
  },
  {
   "cell_type": "code",
   "execution_count": 55,
   "metadata": {},
   "outputs": [],
   "source": [
    "# calculate number of variants per sample and tissue\n",
    "lenght_279 = [len(heart_spec_279),len(liver_spec_279),len(tail_spec_279),len(common_279_3)]\n",
    "lenght_282 = [len(heart_spec_282),len(liver_spec_282),len(tail_spec_282),len(common_282_3)]\n",
    "lenght_450 = [len(heart_spec_450),len(liver_spec_450),len(tail_spec_450),len(common_450_3)]"
   ]
  },
  {
   "cell_type": "code",
   "execution_count": 57,
   "metadata": {},
   "outputs": [],
   "source": [
    "x = ['heart', 'liver', 'tail', 'common']\n",
    "df_plot = pd.DataFrame([lenght_279, lenght_282, lenght_450]).T.rename(columns= {0:'279', 1:'282', 2:'450'})\n",
    "df_plot['tissue'] = x\n",
    "df_plot = df_plot.melt(id_vars = 'tissue')"
   ]
  },
  {
   "cell_type": "code",
   "execution_count": 23,
   "metadata": {},
   "outputs": [],
   "source": [
    "plt.rcParams.update({'font.size':18, 'text.usetex': False,\n",
    "\"svg.fonttype\": 'none'})"
   ]
  },
  {
   "cell_type": "code",
   "execution_count": 59,
   "metadata": {},
   "outputs": [
    {
     "data": {
      "image/png": "[encoded data removed]",
      "text/plain": [
       "<Figure size 396x360 with 2 Axes>"
      ]
     },
     "metadata": {},
     "output_type": "display_data"
    }
   ],
   "source": [
    "fig, ax = plt.subplots(2,1, figsize = (5.5,5), sharex = True, gridspec_kw= {'height_ratios': [5,4]})\n",
    "plt.style.use('seaborn-colorblind')\n",
    "plt.style.use('seaborn-whitegrid')\n",
    "\n",
    "sns.boxplot(x = 'tissue', y = 'value', data = df_plot, ax = ax[0], color = 'lightgrey')\n",
    "sns.swarmplot(x = 'tissue', y = 'value', data = df_plot, hue = 'variable', ax = ax[0], size = 7)\n",
    "sns.boxplot(x = 'tissue', y = 'value', data = df_plot, ax = ax[1], color = 'lightgrey')\n",
    "sns.swarmplot(x = 'tissue', y = 'value', data = df_plot, hue = 'variable', ax = ax[1], size = 7)\n",
    "\n",
    "ax[0].set_ylabel('')\n",
    "ax[1].set_ylabel('')\n",
    "ax[0].get_xaxis().set_visible(False)\n",
    "\n",
    "d = .02  # how big to make the diagonal lines in axes coordinates\n",
    "kwargs = dict(transform=ax[0].transAxes, color=\"k\", clip_on=False)\n",
    "ax[0].plot((-d, +d), (-d, +d), **kwargs)        # top-left diagonal\n",
    "ax[0].plot((1 - d, 1 + d), (-d, +d), **kwargs)  # top-right diagonal\n",
    "kwargs.update(transform=ax[1].transAxes)  # switch to the bottom axes\n",
    "ax[1].plot((-d, +d), (1 - d,1+ d), **kwargs)  # bottom-left diagonal\n",
    "ax[1].plot((1 - d, 1 + d), (1 - d, 1+ d), **kwargs)  # bottom-right diagonal\n",
    "ax[0].set_ylim(80000,115000)\n",
    "ax[1].set_ylim(0,900)\n",
    "ax[0].set_xlabel('SNV')\n",
    "ax[0].set_ylabel('')\n",
    "ax[1].get_legend().remove()\n",
    "ax[0].legend(bbox_to_anchor = (1, 1), loc = 'upper left', title = 'sample')\n",
    "\n",
    "fig.text(0, 0.55, \"count\", va=\"center\", rotation=\"vertical\")\n",
    "fig.tight_layout()\n",
    "plt.show()\n",
    "\n",
    "# save plot and data\n",
    "\n",
    "#fig.savefig(f'{outdir}/venntobox_{filter}_tissuespec_noyx.pdf', bbox_inches = 'tight')\n",
    "#fig.savefig(f'{outdir}/venntobox_{filter}_tissuespec_noyx.svg', bbox_inches = 'tight')\n",
    "\n",
    "save = df_plot.rename(columns = {'value': 'count', 'variable': 'sample'})\n",
    "#save.to_csv(f'{outdir}/tissue_spec_variantnumbers.csv', index = None)"
   ]
  },
  {
   "cell_type": "markdown",
   "metadata": {},
   "source": [
    "## AF distribution tissue specific variants"
   ]
  },
  {
   "cell_type": "markdown",
   "metadata": {},
   "source": [
    "### AF distribution for A>G / T>C mutations"
   ]
  },
  {
   "cell_type": "code",
   "execution_count": 60,
   "metadata": {},
   "outputs": [],
   "source": [
    "\n",
    "def snp_table(df):\n",
    "    '''\n",
    "    function to get the summary statistics on which snps\n",
    "    were measured how many times\n",
    "    returns only A > G mutations\n",
    "    '''\n",
    "    df_germ = df.copy()\n",
    "\n",
    "    #get one df with ref and alt for easier handling\n",
    "    df_germ.loc[:,'replacement'] = df_germ['ref'] + df_germ['alt']\n",
    "    # group each snp with its reverse snp\n",
    "    df_germ.loc[df_germ['replacement'] == 'GA', 'replacement'] = 'CT'\n",
    "    df_germ.loc[df_germ['replacement'] == 'GT', 'replacement'] = 'CA'\n",
    "    df_germ.loc[df_germ['replacement'] == 'GC', 'replacement'] = 'CG'\n",
    "    df_germ.loc[df_germ['replacement'] == 'AT', 'replacement'] = 'TA'\n",
    "    df_germ.loc[df_germ['replacement'] == 'AG', 'replacement'] = 'TC'\n",
    "    df_germ.loc[df_germ['replacement'] == 'AC', 'replacement'] = 'TG'\n",
    "\n",
    "    # rename columns for plot\n",
    "    df_germ.loc[df_germ['replacement'] == 'CA', 'replacement']= f'C>A\\nG>T'\n",
    "    df_germ.loc[df_germ['replacement'] == 'CG', 'replacement']= f'C>G\\nG>C'\n",
    "    df_germ.loc[df_germ['replacement'] == 'CT', 'replacement']= f'C>T\\nG>A'\n",
    "    df_germ.loc[df_germ['replacement'] == 'TA', 'replacement']= f'T>A\\nA>T'\n",
    "    df_germ.loc[df_germ['replacement'] == 'TC', 'replacement']= f'T>C\\nA>G'\n",
    "    df_germ.loc[df_germ['replacement'] == 'TG', 'replacement']= f'T>G\\nA>C'\n",
    "\n",
    "\n",
    "    return df_germ[df_germ['replacement'] == f'T>C\\nA>G']"
   ]
  },
  {
   "cell_type": "code",
   "execution_count": 61,
   "metadata": {},
   "outputs": [],
   "source": [
    "colors = [sns.color_palette('colorblind')[3],\n",
    "          sns.color_palette('colorblind')[2],\n",
    "          sns.color_palette('colorblind')[1],\n",
    "          sns.color_palette('colorblind')[0],\n",
    "          'white',\n",
    "          sns.color_palette('colorblind')[4],\n",
    "          sns.color_palette('colorblind')[5],\n",
    "          sns.color_palette('colorblind')[6],\n",
    "          sns.color_palette('colorblind')[7],\n",
    "          sns.color_palette('colorblind')[8]\n",
    "          ]\n",
    "costum_palette = sns.color_palette(colors)"
   ]
  },
  {
   "cell_type": "code",
   "execution_count": null,
   "metadata": {},
   "outputs": [],
   "source": [
    "# get AF of A to G mutations per sample and tissue\n",
    "a = {'heart':get_af(snp_table(heart_spec_279), col1, col2, col3)[:,0], 'liver':get_af(snp_table(liver_spec_279), col1, col2, col3)[:,1], 'tail': get_af(snp_table(tail_spec_279), col1, col2, col3)[:,2]}\n",
    "sample_279 = pd.DataFrame.from_dict(a, orient = 'index').T.melt().dropna()\n",
    "\n",
    "a = {'heart':get_af(snp_table(heart_spec_282), col1, col2, col3)[:,0], 'liver':get_af(snp_table(liver_spec_282), col1, col2, col3)[:,1], 'tail': get_af(snp_table(tail_spec_282), col1, col2, col3)[:,2]}\n",
    "sample_282 = pd.DataFrame.from_dict(a, orient = 'index').T.melt().dropna()\n",
    "\n",
    "a = {'heart':get_af(snp_table(heart_spec_450), col1, col2, col3)[:,0], 'liver':get_af(snp_table(liver_spec_450), col1, col2, col3)[:,1], 'tail': get_af(snp_table(tail_spec_450), col1, col2, col3)[:,2]}\n",
    "sample_450 = pd.DataFrame.from_dict(a, orient = 'index').T.melt().dropna()\n"
   ]
  },
  {
   "cell_type": "code",
   "execution_count": 64,
   "metadata": {},
   "outputs": [],
   "source": [
    "plot = pd.concat([sample_279, sample_282, sample_450], keys = [279, 282, 450], names =['sample', 'i']).reset_index(level = 0)"
   ]
  },
  {
   "cell_type": "code",
   "execution_count": 65,
   "metadata": {},
   "outputs": [],
   "source": [
    "colors = [sns.color_palette('colorblind')[3],\n",
    "          sns.color_palette('colorblind')[2],\n",
    "          sns.color_palette('colorblind')[0],\n",
    "          sns.color_palette('colorblind')[1],\n",
    "          'white',\n",
    "          sns.color_palette('colorblind')[4],\n",
    "          sns.color_palette('colorblind')[5],\n",
    "          sns.color_palette('colorblind')[6],\n",
    "          sns.color_palette('colorblind')[7],\n",
    "          sns.color_palette('colorblind')[8]\n",
    "          ]\n",
    "costum_palette = sns.color_palette(colors)"
   ]
  },
  {
   "cell_type": "code",
   "execution_count": 77,
   "metadata": {},
   "outputs": [
    {
     "data": {
      "image/png": "[encoded data removed]",
      "text/plain": [
       "<Figure size 288x360 with 1 Axes>"
      ]
     },
     "metadata": {},
     "output_type": "display_data"
    }
   ],
   "source": [
    "fig, ax = plt.subplots(1, figsize = (4,5))\n",
    "plt.style.use('seaborn-colorblind')\n",
    "plt.style.use('seaborn-whitegrid')\n",
    "sns.boxplot(x = 'variable', y = 'value', data = plot, ax = ax, palette = costum_palette)\n",
    "ax.set_xlabel('tissue')\n",
    "ax.set_ylabel('AF')\n",
    "fig.tight_layout()\n",
    "plt.show()\n",
    "\n",
    "# save figure\n",
    "\n",
    "#fig.savefig(f'{outdir}/venntobox_{filter}_tissuespec_noyx_AG_violin.pdf', bbox_inches = 'tight')\n",
    "#fig.savefig(f'{outdir}/venntobox_{filter}_tissuespec_noyx_AG_violin.svg', bbox_inches = 'tight')\n",
    "#plot.rename(columns = {'variable':'tissue', 'value':'AF'}).to_csv(f'{outdir}/venntobox_{filter}_tissuespec_noyx_AG.csv', index = False)"
   ]
  },
  {
   "cell_type": "markdown",
   "metadata": {},
   "source": [
    "### AF of on-target variants"
   ]
  },
  {
   "cell_type": "code",
   "execution_count": 13,
   "metadata": {},
   "outputs": [],
   "source": [
    "# extract on-target mutations for each sample\n",
    "on_target_279 = file_dict_comm['279'][(file_dict_comm['279']['chr'] == 'chr19') & (file_dict_comm['279']['pos'] == 53843240)& (file_dict_comm['279']['alt'] == 'T')].head()\n",
    "on_target_282 = file_dict_comm['282'][(file_dict_comm['282']['chr'] == 'chr19') & (file_dict_comm['282']['pos'] == 53843240)& (file_dict_comm['282']['alt'] == 'T')].head()\n",
    "on_target_450 = file_dict_comm['450'][(file_dict_comm['450']['chr'] == 'chr19') & (file_dict_comm['450']['pos'] == 53843240)& (file_dict_comm['450']['alt'] == 'T')].head()"
   ]
  },
  {
   "cell_type": "code",
   "execution_count": 14,
   "metadata": {},
   "outputs": [],
   "source": [
    "# calculate AF\n",
    "# note: because the on-target edit reverts the genome back to the reference seq, 1 - AF is the correct AF of the edit\n",
    "on_target_279af = ((get_af(on_target_279)) * -1) + 1\n",
    "on_target_282af = ((get_af(on_target_282)) * -1) + 1\n",
    "on_target_450af = ((get_af(on_target_450)) * -1) + 1"
   ]
  },
  {
   "cell_type": "code",
   "execution_count": 15,
   "metadata": {},
   "outputs": [],
   "source": [
    "ad = np.zeros((9,2))\n",
    "for count, i in enumerate([on_target_279, on_target_282, on_target_450]):\n",
    "    # for each sample, save number of reads for heart, liver & tail in numpy array\n",
    "    mouse_ad = i[['AD|h_mu','AD|l_mu','AD|t_mu']]\n",
    "    allel1 = mouse_ad.applymap(lambda x: int(x.split(',')[0])).to_numpy()\n",
    "    allel2 = mouse_ad.applymap(lambda x: int(x.split(',')[1])).to_numpy()\n",
    "    ad[[0+count,3+count,6+count], 0] = allel1\n",
    "    ad[[0+count,3+count,6+count], 1] = allel2"
   ]
  },
  {
   "cell_type": "code",
   "execution_count": 18,
   "metadata": {},
   "outputs": [],
   "source": [
    "# summarize all info into pandas df\n",
    "test = pd.DataFrame(np.array([on_target_279af[0], on_target_282af[0], on_target_450af[0]]), columns = ['heart','liver', 'tail'])\n",
    "test = test.melt(var_name = 'tissue', value_name = 'AF')\n",
    "test['ALT_reads'] = ad[:,0]\n",
    "test['REF_reads'] = ad[:,1]\n",
    "test['total_reads'] = test['ALT_reads'] + test['REF_reads']\n",
    "test['mouse'] = [279, 282, 450, 279, 282, 450, 279, 282, 450]\n",
    "# save as table\n",
    "#test.to_csv('{outdir}/on_target_AF.txt', index = False)"
   ]
  },
  {
   "cell_type": "code",
   "execution_count": 21,
   "metadata": {},
   "outputs": [],
   "source": [
    "# calculate sum of reads per tissue\n",
    "reads = np.zeros((3,3))\n",
    "for count, i in enumerate([on_target_279, on_target_282, on_target_450]):\n",
    "    mouse_ad = i[['AD|h_mu','AD|l_mu','AD|t_mu']]\n",
    "    allel1 = mouse_ad.applymap(lambda x: int(x.split(',')[0])).to_numpy()\n",
    "    allel2 = mouse_ad.applymap(lambda x: int(x.split(',')[1])).to_numpy()\n",
    "    sum = (allel1 + allel2)\n",
    "    reads[count] = sum\n",
    "reads_per_tissue = reads.sum(axis = 0)"
   ]
  },
  {
   "cell_type": "code",
   "execution_count": 24,
   "metadata": {},
   "outputs": [
    {
     "data": {
      "image/png": "[encoded data removed]",
      "text/plain": [
       "<Figure size 432x432 with 1 Axes>"
      ]
     },
     "metadata": {},
     "output_type": "display_data"
    }
   ],
   "source": [
    "fig, ax = plt.subplots(1,1, figsize = (6,6), sharey = True)\n",
    "plt.style.use('seaborn-colorblind')\n",
    "plt.style.use('seaborn-whitegrid')\n",
    "ax = sns.boxplot(x=\"tissue\", y=\"AF\", data=test, color = 'lightgrey')\n",
    "ax = sns.swarmplot(x=\"tissue\", y=\"AF\", data=test, hue=\"mouse\", size = 8)\n",
    "ax.set_xlabel('tissue')\n",
    "ax.set_ylabel('AF')\n",
    "for count, xtick in enumerate(ax.get_xticks()):\n",
    "    ax.text(xtick,0.35, f'n = 3,\\nreads = {int(reads_per_tissue[count])}',\n",
    "            horizontalalignment='center',color='black', size = 14)\n",
    "ax.legend(bbox_to_anchor = (1, 1), loc = 'upper left', title = 'sample')\n",
    "fig.tight_layout()\n",
    "plt.show()\n",
    "\n",
    "# save figure\n",
    "\n",
    "#fig.savefig(f'{outdir}/ontarget_AF.pdf', bbox_inches = 'tight')\n",
    "#fig.savefig(f'{outdir}/ontarget_AF.svg', bbox_inches = 'tight')"
   ]
  }
 ],
 "metadata": {
  "interpreter": {
   "hash": "e6f34ad77cfe09e92b789e4b2c65cd4206cf10540b9993c0effd6d86fa137da0"
  },
  "kernelspec": {
   "display_name": "Python 3.9.12 ('base')",
   "language": "python",
   "name": "python3"
  },
  "language_info": {
   "codemirror_mode": {
    "name": "ipython",
    "version": 3
   },
   "file_extension": ".py",
   "mimetype": "text/x-python",
   "name": "python",
   "nbconvert_exporter": "python",
   "pygments_lexer": "ipython3",
   "version": "3.9.12"
  },
  "orig_nbformat": 4
 },
 "nbformat": 4,
 "nbformat_minor": 2
}
