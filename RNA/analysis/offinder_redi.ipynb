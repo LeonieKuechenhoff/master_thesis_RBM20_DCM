{
 "cells": [
  {
   "cell_type": "code",
   "execution_count": 1,
   "metadata": {},
   "outputs": [],
   "source": [
    "### Author: Leonie Küchenhoff\n",
    "### Date: December 7 2022\n",
    "### Purpose of script: \n",
    "### Import reads exported with reditools in all potential off-target sites (found by cas-offinder, <= 5 mismatches to gRNA) and plot to see a trend"
   ]
  },
  {
   "cell_type": "code",
   "execution_count": 1,
   "metadata": {},
   "outputs": [],
   "source": [
    "# package import\n",
    "import pandas as pd\n",
    "from matplotlib import pyplot as plt\n",
    "import seaborn as sns\n",
    "import os\n",
    "from config import basedir, outdir, cas_offinder\n",
    "import glob\n",
    "import matplotlib.patches as mpatches"
   ]
  },
  {
   "cell_type": "code",
   "execution_count": 2,
   "metadata": {},
   "outputs": [
    {
     "name": "stdout",
     "output_type": "stream",
     "text": [
      "This base directory will be used:\n",
      " /g/steinmetz/project/leonie_crispr/03_data/02_rnaseq/snakemake/\n"
     ]
    }
   ],
   "source": [
    "# general info\n",
    "os.chdir(basedir)\n",
    "outdir = str(outdir + '/offinder')\n",
    "print('This base directory will be used:\\n', basedir)\n",
    "off_dir = cas_offinder\n",
    "# sample names\n",
    "names = ['028_pbs_R', '029_pbs_R', '032_pbs_R','033_nrch_R', '030_nrch_R', '036_nrch_R', \n",
    "            '011_pbs', '012_nrch', '013_nrch', '014_nrch', '279_spry', '321_pbs', '333_pbs', '450_spry', '283_spry']\n",
    "# treatment in same order as sample names\n",
    "base_editor = ['pbs', 'pbs', 'pbs', '8e-NRCH', '8e-NRCH', '8e-NRCH',\n",
    "            'pbs', '8e-NRCH', '8e-NRCH','8e-NRCH', 'max-SpRY', 'pbs', 'pbs', 'max-SpRY', 'max-SpRY']\n",
    "\n",
    "pairing = dict(zip(names, base_editor))\n",
    "mutation = ['r636q' if i[-1] == 'R' else 'p635l' for i in names]\n",
    "\n",
    "categories = 'pspry','pnrch','rnrch'\n",
    "\n",
    "chromosomes = ['chr1','chr2','chr3','chr4','chr5','chr6', 'chr7', 'chr8', 'chr9','chr10',\n",
    "'chr11','chr12','chr13','chr14','chr15','chr16', 'chr17', 'chr18', 'chr19']"
   ]
  },
  {
   "cell_type": "code",
   "execution_count": 3,
   "metadata": {},
   "outputs": [],
   "source": [
    "# general plot settings\n",
    "plt.rcParams.update({'font.size':18, 'text.usetex': False,\n",
    "\"svg.fonttype\": 'none'})"
   ]
  },
  {
   "cell_type": "code",
   "execution_count": 4,
   "metadata": {},
   "outputs": [],
   "source": [
    "# get file path names for each category\n",
    "pspry= glob.glob(f'{off_dir}/H*pspry.redi.txt')\n",
    "pnrch= glob.glob(f'{off_dir}/H*pnrch.redi.txt')\n",
    "rnrch= glob.glob(f'{off_dir}/H*rnrch.redi.txt')"
   ]
  },
  {
   "cell_type": "code",
   "execution_count": 5,
   "metadata": {},
   "outputs": [],
   "source": [
    "relative_positions = list(range(0, 41))\n",
    "position_df = {}\n",
    "for name in ['off_target_nrch_p', 'off_target_nrch_r', 'off_target_spry']:\n",
    "    '''\n",
    "    for loop to read bed files and annotate each base with a position relative to gRNA\n",
    "    retunrs dict with three entries - one entry for each gRNA + PAM with each position annotated with a realtive position\n",
    "    '''\n",
    "    path = f'offinder/{name}.bed'\n",
    "    bed_df = pd.read_csv(path, sep = '\\t', header = None, names = ['chr', 'start', 'stop'])\n",
    "    sample_pos = {}\n",
    "    for index, row in bed_df.iterrows():\n",
    "        a = list(range(row['start'], row['start'] +41))\n",
    "        positions = [row['chr'] + str(i) for i in a]\n",
    "        sample_pos[index] = positions\n",
    "    position_frame = pd.DataFrame.from_dict(sample_pos)\n",
    "    position_frame['relative_position'] = relative_positions\n",
    "    position_frame = position_frame.melt(id_vars = 'relative_position').drop(columns = 'variable')\n",
    "    position_df[name] = position_frame"
   ]
  },
  {
   "cell_type": "code",
   "execution_count": 6,
   "metadata": {},
   "outputs": [],
   "source": [
    "def read_files_rel_pos(path_list, mutation):\n",
    "    '''\n",
    "    function to read reditools output files from path list & annotate them with realtive positions from position_df dict\n",
    "    returns\n",
    "        - dictonary containing one entry per file\n",
    "        - corresponding file names in list\n",
    "    '''\n",
    "    dict = {}\n",
    "    kurz = []\n",
    "    for j in path_list:\n",
    "        name = os.path.basename(j).split('.')[0][1:]\n",
    "        condition = pairing[name]\n",
    "        file = pd.read_csv(j, sep = '\\t')\n",
    "        file = file[file['Region'].isin(chromosomes)]\n",
    "        file = file[file['Coverage-q30']>=5]\n",
    "        file = file[~(file['Position']>=53843223)& (file['Position']<=53843268) & (file['Region']>='chr19')]\n",
    "\n",
    "        file['value'] = file['Region'] + [str(x) for x in file['Position']]\n",
    "        condition = pairing[name]\n",
    "        file_rel = file.merge(position_df[mutation], how = 'left', on = 'value')\n",
    "        file_rel['condition'] = condition\n",
    "        file_rel['sample'] = name\n",
    "        dict[name] = file_rel\n",
    "        kurz.append(name)\n",
    "    return dict, kurz"
   ]
  },
  {
   "cell_type": "code",
   "execution_count": 7,
   "metadata": {},
   "outputs": [],
   "source": [
    "all_pos = pd.DataFrame({'relative_position': list(range(0,41))})"
   ]
  },
  {
   "cell_type": "code",
   "execution_count": 9,
   "metadata": {},
   "outputs": [],
   "source": [
    "# for each condition, read readi files & annotate with relative postion\n",
    "test_rnrchr, kurz_rnrchr = read_files_rel_pos(rnrch, 'off_target_nrch_r')\n",
    "# conctenate all sample files to one df\n",
    "concatenated_nrchr = pd.concat([test_rnrchr[i] for i in kurz_rnrchr])\n",
    "# Search for variants\n",
    "plot_rnrch = concatenated_nrchr[concatenated_nrchr['Frequency']>0].groupby(['relative_position', 'condition']).count()['Frequency'].to_frame(name = 'count').reset_index()\n",
    "# merge with empty df containing all realtive positions to make format consistent\n",
    "plot_rnrch = all_pos.merge(plot_rnrch, how = 'left', on = 'relative_position')\n",
    "\n",
    "\n",
    "\n",
    "# repeat procedure described above for other conditions\n",
    "\n",
    "test, kurz = read_files_rel_pos(pnrch, 'off_target_nrch_p')\n",
    "concatenated_nrchp = pd.concat([test[i] for i in kurz])\n",
    "plot_pnrch = concatenated_nrchp[concatenated_nrchp['Frequency']>0].groupby(['relative_position', 'condition']).count()['Frequency'].to_frame(name = 'count').reset_index()\n",
    "plot_pnrch = all_pos.merge(plot_pnrch, how = 'left', on = 'relative_position')\n",
    "\n",
    "test, kurz = read_files_rel_pos(pspry, 'off_target_spry')\n",
    "concatenated_spryp = pd.concat([test[i] for i in kurz])\n",
    "plot_pspry = concatenated_spryp[concatenated_spryp['Frequency']>0].groupby(['relative_position', 'condition']).count()['Frequency'].to_frame(name = 'count').reset_index()\n",
    "plot_pspry = all_pos.merge(plot_pspry, how = 'left', on = 'relative_position')\n",
    "\n"
   ]
  },
  {
   "cell_type": "code",
   "execution_count": 11,
   "metadata": {},
   "outputs": [
    {
     "data": {
      "image/png": "[encoded data removed]",
      "text/plain": [
       "<Figure size 720x720 with 3 Axes>"
      ]
     },
     "metadata": {},
     "output_type": "display_data"
    }
   ],
   "source": [
    "\n",
    "# plot results\n",
    "\n",
    "fig, ax = plt.subplots(3,1, figsize = (10,10), sharex = True, sharey = True)\n",
    "plt.style.use('seaborn-colorblind')\n",
    "plt.style.use('seaborn-whitegrid')\n",
    "sns.barplot(x = 'relative_position', y = 'count', hue = 'condition', data = plot_rnrch, ax = ax[0], hue_order = ['pbs', '8e-NRCH'],edgecolor = 'black', linewidth = 1,palette = sns.color_palette(['bisque', 'orange']))\n",
    "sns.barplot(x = 'relative_position', y = 'count', hue = 'condition', data = plot_pnrch, ax = ax[1], hue_order = ['pbs', '8e-NRCH'], edgecolor = 'black', linewidth = 1, palette = sns.color_palette(['azure', 'steelblue']))\n",
    "sns.barplot(x = 'relative_position', y = 'count', hue = 'condition', data = plot_pspry, ax = ax[2], hue_order = ['pbs', 'max-SpRY'], edgecolor = 'black', linewidth = 1, palette = sns.color_palette(['azure', 'navy']))\n",
    "\n",
    "ax[0].legend(bbox_to_anchor = (1, 1), loc = 'upper left')\n",
    "ax[1].legend(bbox_to_anchor = (1, 1), loc = 'upper left')\n",
    "ax[2].legend(bbox_to_anchor = (1, 1), loc = 'upper left')\n",
    "ax[0].set_xlabel('relative postion')\n",
    "ax[1].set_xlabel('relative postion')\n",
    "ax[2].set_xlabel('relative postion')\n",
    "\n",
    "\n",
    "left, bottom, width, height = (10, 0, 20, 3)\n",
    "rect=mpatches.Rectangle((left,bottom),width,height, \n",
    "                        alpha=0.2,\n",
    "                        facecolor=\"grey\")\n",
    "\n",
    "ax[0].add_patch(mpatches.Rectangle((left,bottom),width,height, \n",
    "                        alpha=0.2,\n",
    "                        facecolor=\"grey\"))\n",
    "ax[1].add_patch(mpatches.Rectangle((left,bottom),width,height, \n",
    "                        alpha=0.2,\n",
    "                        facecolor=\"grey\"))\n",
    "ax[2].add_patch(mpatches.Rectangle((left,bottom),width,height, \n",
    "                        alpha=0.2,\n",
    "                        facecolor=\"grey\"))\n",
    "\n",
    "n = 5  \n",
    "[l.set_visible(False) for (i,l) in enumerate(ax[2].xaxis.get_ticklabels()) if i % n != 0]\n",
    "plt.show()\n",
    "\n",
    "#fig.savefig(f'{outdir}/mut_pos.pdf', bbox_inches = 'tight')\n",
    "#fig.savefig(f'{outdir}/mut_pos.svg', bbox_inches = 'tight')"
   ]
  },
  {
   "cell_type": "code",
   "execution_count": null,
   "metadata": {},
   "outputs": [],
   "source": []
  }
 ],
 "metadata": {
  "interpreter": {
   "hash": "e6f34ad77cfe09e92b789e4b2c65cd4206cf10540b9993c0effd6d86fa137da0"
  },
  "kernelspec": {
   "display_name": "Python 3.9.12 ('base')",
   "language": "python",
   "name": "python3"
  },
  "language_info": {
   "codemirror_mode": {
    "name": "ipython",
    "version": 3
   },
   "file_extension": ".py",
   "mimetype": "text/x-python",
   "name": "python",
   "nbconvert_exporter": "python",
   "pygments_lexer": "ipython3",
   "version": "3.9.12"
  },
  "orig_nbformat": 4
 },
 "nbformat": 4,
 "nbformat_minor": 2
}
