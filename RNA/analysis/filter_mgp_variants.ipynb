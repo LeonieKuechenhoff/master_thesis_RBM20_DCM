{
 "cells": [
  {
   "cell_type": "code",
   "execution_count": null,
   "metadata": {},
   "outputs": [],
   "source": [
    "### Author: Leonie Küchenhoff\n",
    "### Date: November 15 2022\n",
    "### Purpose of script: \n",
    "### Filter variants from mgp variant file for variants that are protein coding"
   ]
  },
  {
   "cell_type": "code",
   "execution_count": 2,
   "metadata": {},
   "outputs": [],
   "source": [
    "# import packages\n",
    "from fuc import pyvcf, pyvep\n",
    "import pandas as pd\n",
    "from config import var_db_dir"
   ]
  },
  {
   "cell_type": "code",
   "execution_count": 2,
   "metadata": {},
   "outputs": [],
   "source": [
    "# read in normalized mgp annotated variants\n",
    "vf = pyvcf.VcfFrame.from_file(f'{var_db_dir}/normalized/mgp.v5.snps.indels.dbSNP142.pass.chr.sort.vcf.gz')"
   ]
  },
  {
   "cell_type": "code",
   "execution_count": 25,
   "metadata": {},
   "outputs": [],
   "source": [
    "# filter used: Variant has protein position in CSQ annotation\n",
    "filtered = vf.df[vf.df.INFO.str.contains('\\|[\\w]*\\|[\\w]*\\|Transcript\\|[\\w]*\\|[\\w]*\\|[0-9]')]"
   ]
  },
  {
   "cell_type": "code",
   "execution_count": 28,
   "metadata": {},
   "outputs": [],
   "source": [
    "# save file to csv\n",
    "filtered.to_csv(f'{var_db_dir}/normalized/genic_vars/genetic_variants.txt', index = False, sep = '\\t')"
   ]
  }
 ],
 "metadata": {
  "interpreter": {
   "hash": "e6f34ad77cfe09e92b789e4b2c65cd4206cf10540b9993c0effd6d86fa137da0"
  },
  "kernelspec": {
   "display_name": "Python 3.9.12 ('base')",
   "language": "python",
   "name": "python3"
  },
  "language_info": {
   "codemirror_mode": {
    "name": "ipython",
    "version": 3
   },
   "file_extension": ".py",
   "mimetype": "text/x-python",
   "name": "python",
   "nbconvert_exporter": "python",
   "pygments_lexer": "ipython3",
   "version": "3.9.12"
  },
  "orig_nbformat": 4
 },
 "nbformat": 4,
 "nbformat_minor": 2
}
